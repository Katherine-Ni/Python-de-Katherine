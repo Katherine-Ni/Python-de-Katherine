{
  "nbformat": 4,
  "nbformat_minor": 0,
  "metadata": {
    "kernelspec": {
      "display_name": "Python 3",
      "language": "python",
      "name": "python3"
    },
    "language_info": {
      "codemirror_mode": {
        "name": "ipython",
        "version": 3
      },
      "file_extension": ".py",
      "mimetype": "text/x-python",
      "name": "python",
      "nbconvert_exporter": "python",
      "pygments_lexer": "ipython3",
      "version": "3.6.1"
    },
    "colab": {
      "name": "Personalized_Learning_Analytics_assignment.ipynb",
      "provenance": [],
      "include_colab_link": true
    }
  },
  "cells": [
    {
      "cell_type": "markdown",
      "metadata": {
        "id": "view-in-github",
        "colab_type": "text"
      },
      "source": [
        "<a href=\"https://colab.research.google.com/github/Katherine-Ni/Python-de-Katherine/blob/master/Personalized_Learning_Analytics_assignment.ipynb\" target=\"_parent\"><img src=\"https://colab.research.google.com/assets/colab-badge.svg\" alt=\"Open In Colab\"/></a>"
      ]
    },
    {
      "cell_type": "markdown",
      "metadata": {
        "id": "z3Ib3CVYgGP1",
        "colab_type": "text"
      },
      "source": [
        "# Learning Analytics based on Skills"
      ]
    },
    {
      "cell_type": "markdown",
      "metadata": {
        "id": "4GW2Z-YagGP3",
        "colab_type": "text"
      },
      "source": [
        "### Install and import libraries"
      ]
    },
    {
      "cell_type": "code",
      "metadata": {
        "id": "aH12a6bXgGP4",
        "colab_type": "code",
        "outputId": "2674371c-b644-428f-cd8e-cdc076540c15",
        "colab": {
          "base_uri": "https://localhost:8080/",
          "height": 51
        }
      },
      "source": [
        "!pip3 install bs4"
      ],
      "execution_count": 0,
      "outputs": [
        {
          "output_type": "stream",
          "text": [
            "Requirement already satisfied: bs4 in /usr/local/lib/python3.6/dist-packages (0.0.1)\n",
            "Requirement already satisfied: beautifulsoup4 in /usr/local/lib/python3.6/dist-packages (from bs4) (4.6.3)\n"
          ],
          "name": "stdout"
        }
      ]
    },
    {
      "cell_type": "code",
      "metadata": {
        "id": "CtQsOYLigGP8",
        "colab_type": "code",
        "colab": {}
      },
      "source": [
        "import matplotlib as plt\n",
        "import pandas as pd\n",
        "import numpy as np\n",
        "import bs4\n",
        "import re\n",
        "from urllib.request import urlopen as uReq\n",
        "from bs4 import BeautifulSoup as soup\n",
        "#import the package to avoid some mistakes;\n",
        "import ssl\n",
        "ssl._create_default_https_context = ssl._create_unverified_context"
      ],
      "execution_count": 0,
      "outputs": []
    },
    {
      "cell_type": "code",
      "metadata": {
        "id": "UWaiKgQ6DxBB",
        "colab_type": "code",
        "colab": {}
      },
      "source": [
        ""
      ],
      "execution_count": 0,
      "outputs": []
    },
    {
      "cell_type": "markdown",
      "metadata": {
        "id": "HuzlirrPgGP-",
        "colab_type": "text"
      },
      "source": [
        "### Define job title and geographic location\n",
        "\n",
        "Search Indeed.ca web-site for data-related job vacancies at the specified geographic location.\n",
        "\n",
        "To simplify the following process, I choose Toronto as the specified location for job vacancies."
      ]
    },
    {
      "cell_type": "code",
      "metadata": {
        "id": "7O5rFwIYgGP_",
        "colab_type": "code",
        "outputId": "46380db9-6b3e-4ebd-e8cb-0605af4dfcfe",
        "colab": {
          "base_uri": "https://localhost:8080/",
          "height": 34
        }
      },
      "source": [
        "#jobtitle = str(input(\"Please enter the job title: \"))\n",
        "#choose data-related jobs\n",
        "jobtitle = 'data'\n",
        "#location = str(input(\"Please enter the job location:\"))\n",
        "location = 'Toronto'\n",
        "query1=jobtitle.replace(' ','+')\n",
        "query2=location.replace(' ','+')\n",
        "urlorig='https://www.indeed.ca/jobs?q='+query1+'&l='+query2+'&start='\n",
        "urlorig"
      ],
      "execution_count": 0,
      "outputs": [
        {
          "output_type": "execute_result",
          "data": {
            "text/plain": [
              "'https://www.indeed.ca/jobs?q=data&l=Toronto&start='"
            ]
          },
          "metadata": {
            "tags": []
          },
          "execution_count": 15
        }
      ]
    },
    {
      "cell_type": "markdown",
      "metadata": {
        "id": "t3apQ1D2gGQC",
        "colab_type": "text"
      },
      "source": [
        "### Create list of job vacancies\n",
        "\n",
        "Extract knowledge of technologies (Python, Excel, R, Matlab, Hadoop, Spark, etc.)\n",
        "\n",
        "Extract business skills(consulting, project management)\n",
        "\n",
        "Extract technical skills(database, Big Data, Artifiial Intelligence)"
      ]
    },
    {
      "cell_type": "code",
      "metadata": {
        "id": "YVks10qJgGQC",
        "colab_type": "code",
        "colab": {}
      },
      "source": [
        "# Empty list for job_title, company_name, location, job_description, job skills\n",
        "titles = []\n",
        "company_names = []\n",
        "location_names = []\n",
        "job_descriptions = []\n",
        "job_ids = []\n",
        "skills = {}\n",
        "set_of_skills = {'Python', 'R ', 'Matlab', 'Excel', 'SAS', 'SQL','SPSS',\n",
        "                 'Hadoop', 'Spark', 'consulting', 'project management',\n",
        "                 'databases','Big Data', 'Artificial Intelligence'}\n",
        "for sk in set_of_skills:\n",
        "    skills[sk] = []\n",
        "\n",
        "# Loop over 1000 vacancies (20 at each page)\n",
        "for i in range(0,1000,20):\n",
        "    \n",
        "    # html parsing Indeed job portal page\n",
        "    try:\n",
        "        my_url = urlorig+str(i)\n",
        "        uClient = uReq(my_url)\n",
        "        page_html = uClient.read()\n",
        "        uClient.close()\n",
        "        page_soup = soup(page_html,'html.parser')\n",
        "\n",
        "        # extract job_title\n",
        "        jobs = page_soup.findAll(\"div\", class_=\"row\" )\n",
        "        for job in jobs:\n",
        "            try:\n",
        "                titles.append(job.a[\"title\"])\n",
        "            except:\n",
        "                titles.append(\"NA\")\n",
        "\n",
        "        # extract company_name\n",
        "        companies = page_soup.findAll(\"span\", class_=\"company\" )\n",
        "        for company in companies:\n",
        "            try:\n",
        "                company_names.append(company.text.strip())\n",
        "            except:\n",
        "                company_names.append(\"NA\")\n",
        "\n",
        "        # extract location       \n",
        "        locations = page_soup.findAll( class_=\"location\")\n",
        "        for location in locations:\n",
        "            try:\n",
        "                location_names.append(location.text)\n",
        "            except:\n",
        "                location_names.append(\"NA\")\n",
        "\n",
        "        # extract job_description \n",
        "        links = page_soup.findAll(\"div\", class_ = \"row\")   \n",
        "        for link in links:\n",
        "            try:\n",
        "                Jb = uReq(\"https://www.indeed.ca\" + link.a[\"href\"])\n",
        "                try:\n",
        "                    res_id = re.search('clk\\?jk=(.*)&fccid', link.a[\"href\"])\n",
        "                    job_ids.append(res_id.group(1))\n",
        "                except:\n",
        "                    job_ids.append(\"\")\n",
        "                Jb_html = Jb.read()\n",
        "                Jb.close()\n",
        "                Jb_soup = soup(Jb_html, \"html.parser\")\n",
        "\n",
        "                job_description = Jb_soup.findAll(\"div\", class_= \"jobsearch-JobComponent-description\")\n",
        "                cleantext = soup(str(job_description), 'lxml').text\n",
        "                try:\n",
        "                    job_descriptions.append(cleantext)  \n",
        "                except:\n",
        "                    job_descriptions.append(\"NA\")  \n",
        "\n",
        "                if(\"excel\" in cleantext.lower()):\n",
        "                    skills['Excel'].append('1')\n",
        "                else:\n",
        "                    skills['Excel'].append('0')\n",
        "\n",
        "                if(\"python\" in cleantext.lower()):\n",
        "                    skills['Python'].append('1')\n",
        "                else:\n",
        "                    skills['Python'].append('0')\n",
        "\n",
        "                if(\"R \" in cleantext):\n",
        "                    skills['R '].append('1')\n",
        "                else:\n",
        "                    skills['R '].append('0')\n",
        "\n",
        "                if(\"matlab\" in cleantext.lower()):\n",
        "                    skills['Matlab'].append('1')\n",
        "                else:\n",
        "                    skills['Matlab'].append('0')\n",
        "\n",
        "                if(\"sas\" in cleantext.lower()):\n",
        "                    skills['SAS'].append('1')\n",
        "                else:\n",
        "                    skills['SAS'].append('0')\n",
        "\n",
        "                if(\"sql\" in cleantext.lower()):\n",
        "                    skills['SQL'].append('1')\n",
        "                else:\n",
        "                    skills['SQL'].append('0')\n",
        "\n",
        "                if(\"spss\" in cleantext.lower()):\n",
        "                    skills['SPSS'].append('1')\n",
        "                else:\n",
        "                    skills['SPSS'].append('0')\n",
        "\n",
        "                if(\"hadoop\" in cleantext.lower()):\n",
        "                    skills['Hadoop'].append('1')\n",
        "                else:\n",
        "                    skills['Hadoop'].append('0')\n",
        "\n",
        "                if(\"spark\" in cleantext.lower()):\n",
        "                    skills['Spark'].append('1')\n",
        "                else:\n",
        "                    skills['Spark'].append('0')\n",
        "\n",
        "                if(\"consulting\" in cleantext.lower()):\n",
        "                    skills['consulting'].append('1')\n",
        "                else:\n",
        "                    skills['consulting'].append('0')\n",
        "\n",
        "                if(\"project management\" in cleantext.lower()):\n",
        "                    skills['project management'].append('1')\n",
        "                else:\n",
        "                    skills['project management'].append('0')\n",
        "\n",
        "                if(\"databases\" in cleantext.lower()):\n",
        "                    skills['databases'].append('1')\n",
        "                else:\n",
        "                    skills['databases'].append('0')\n",
        "\n",
        "                if(\"Big Data\" in cleantext.lower()):\n",
        "                    skills['Big Data'].append('1')\n",
        "                else:\n",
        "                    skills['Big Data'].append('0')\n",
        "\n",
        "                if(\"Artificial Intelligence\" in cleantext.lower()):\n",
        "                    skills['Artificial Intelligence'].append('1')\n",
        "                else:\n",
        "                    skills['Artificial Intelligence'].append('0')\n",
        "            except:\n",
        "                job_ids.append(\"\")\n",
        "                job_descriptions.append(\"NA\")\n",
        "                for sk in skills.keys():\n",
        "                    skills[sk].append('0')\n",
        "                continue\n",
        "    except:\n",
        "        continue"
      ],
      "execution_count": 0,
      "outputs": []
    },
    {
      "cell_type": "code",
      "metadata": {
        "id": "eDOLUyz8WfrL",
        "colab_type": "code",
        "colab": {}
      },
      "source": [
        "#get more specific skills required in data-related jobs(knowledge of technologies, business skills, technicla skills, etc.)\n",
        "knowledge_technologies, busi_skills, tech_skills = dict(), dict(), dict()\n",
        "knowledge_technologies_set = {'Python', 'R ', 'Matlab', 'Excel', 'SAS', 'SQL','SPSS',\n",
        "                 'Hadoop', 'Spark'}\n",
        "busi_skills_set = {'consulting', 'project management'}\n",
        "tech_skills_set = {'databases','Big Data', 'Artificial Intelligence'}\n",
        "for kn in knowledge_technologies_set:\n",
        "    knowledge_technologies[kn] = skills[kn]\n",
        "for bu in busi_skills_set:\n",
        "    busi_skills[bu] = skills[bu]\n",
        "for te in tech_skills_set:\n",
        "    tech_skills[te] = skills[te]"
      ],
      "execution_count": 0,
      "outputs": []
    },
    {
      "cell_type": "code",
      "metadata": {
        "id": "CmRbMPB7gGQE",
        "colab_type": "code",
        "outputId": "53078f2e-f277-4bc2-fc30-0746ba650221",
        "colab": {
          "base_uri": "https://localhost:8080/",
          "height": 102
        }
      },
      "source": [
        "print(len(job_ids))\n",
        "print(len(titles))\n",
        "print(len(company_names))\n",
        "print(len(location_names))\n",
        "print(len(job_descriptions))"
      ],
      "execution_count": 0,
      "outputs": [
        {
          "output_type": "stream",
          "text": [
            "1000\n",
            "1000\n",
            "1000\n",
            "1000\n",
            "1000\n"
          ],
          "name": "stdout"
        }
      ]
    },
    {
      "cell_type": "markdown",
      "metadata": {
        "id": "sn10da0cgGQI",
        "colab_type": "text"
      },
      "source": [
        "### Create dataframe with job vacancies and save it to csv file"
      ]
    },
    {
      "cell_type": "code",
      "metadata": {
        "scrolled": false,
        "id": "N4WReow7gGQJ",
        "colab_type": "code",
        "outputId": "e9c39f27-6d8b-4fa7-cc18-7fa9b4cfcc75",
        "colab": {
          "base_uri": "https://localhost:8080/",
          "height": 479
        }
      },
      "source": [
        "d = {'Job_ID':job_ids,'Job_Title':titles,'Company_Name':company_names,'Location':location_names,'Job_Description':job_descriptions}\n",
        "df1 = pd.DataFrame(d)\n",
        "df2 = pd.DataFrame(knowledge_technologies)\n",
        "df3 = pd.DataFrame(busi_skills)\n",
        "df4 = pd.DataFrame(tech_skills)\n",
        "frames = [df1, df2, df3, df4]\n",
        "results = pd.concat(frames, axis = 1)\n",
        "results.head()"
      ],
      "execution_count": 0,
      "outputs": [
        {
          "output_type": "execute_result",
          "data": {
            "text/html": [
              "<div>\n",
              "<style scoped>\n",
              "    .dataframe tbody tr th:only-of-type {\n",
              "        vertical-align: middle;\n",
              "    }\n",
              "\n",
              "    .dataframe tbody tr th {\n",
              "        vertical-align: top;\n",
              "    }\n",
              "\n",
              "    .dataframe thead th {\n",
              "        text-align: right;\n",
              "    }\n",
              "</style>\n",
              "<table border=\"1\" class=\"dataframe\">\n",
              "  <thead>\n",
              "    <tr style=\"text-align: right;\">\n",
              "      <th></th>\n",
              "      <th>Job_ID</th>\n",
              "      <th>Job_Title</th>\n",
              "      <th>Company_Name</th>\n",
              "      <th>Location</th>\n",
              "      <th>Job_Description</th>\n",
              "      <th>SQL</th>\n",
              "      <th>SAS</th>\n",
              "      <th>Python</th>\n",
              "      <th>Matlab</th>\n",
              "      <th>SPSS</th>\n",
              "      <th>Hadoop</th>\n",
              "      <th>Excel</th>\n",
              "      <th>Spark</th>\n",
              "      <th>R</th>\n",
              "      <th>project management</th>\n",
              "      <th>consulting</th>\n",
              "      <th>Artificial Intelligence</th>\n",
              "      <th>databases</th>\n",
              "      <th>Big Data</th>\n",
              "    </tr>\n",
              "  </thead>\n",
              "  <tbody>\n",
              "    <tr>\n",
              "      <th>0</th>\n",
              "      <td>6b7b697c5907554c</td>\n",
              "      <td>DATA ENTRY CLERK</td>\n",
              "      <td>Ministry of Health</td>\n",
              "      <td>North York, ON</td>\n",
              "      <td>[North York, ONTemporaryDo you have speed and ...</td>\n",
              "      <td>0</td>\n",
              "      <td>0</td>\n",
              "      <td>0</td>\n",
              "      <td>0</td>\n",
              "      <td>0</td>\n",
              "      <td>0</td>\n",
              "      <td>1</td>\n",
              "      <td>0</td>\n",
              "      <td>0</td>\n",
              "      <td>0</td>\n",
              "      <td>0</td>\n",
              "      <td>0</td>\n",
              "      <td>0</td>\n",
              "      <td>0</td>\n",
              "    </tr>\n",
              "    <tr>\n",
              "      <th>1</th>\n",
              "      <td>78383667b96fb0c6</td>\n",
              "      <td>DATA ANALYST</td>\n",
              "      <td>City of Toronto</td>\n",
              "      <td>Toronto, ON</td>\n",
              "      <td>[Toronto, ON$36.69 - $40.19 an hourJob ID: 156...</td>\n",
              "      <td>1</td>\n",
              "      <td>0</td>\n",
              "      <td>1</td>\n",
              "      <td>0</td>\n",
              "      <td>0</td>\n",
              "      <td>0</td>\n",
              "      <td>0</td>\n",
              "      <td>0</td>\n",
              "      <td>1</td>\n",
              "      <td>0</td>\n",
              "      <td>0</td>\n",
              "      <td>0</td>\n",
              "      <td>0</td>\n",
              "      <td>0</td>\n",
              "    </tr>\n",
              "    <tr>\n",
              "      <th>2</th>\n",
              "      <td></td>\n",
              "      <td>Full Time Data Entry / Research Personnel</td>\n",
              "      <td>Strategy Institute</td>\n",
              "      <td>Toronto, ON</td>\n",
              "      <td>[Toronto, ONPosition Summary: We are looking t...</td>\n",
              "      <td>0</td>\n",
              "      <td>0</td>\n",
              "      <td>0</td>\n",
              "      <td>0</td>\n",
              "      <td>0</td>\n",
              "      <td>0</td>\n",
              "      <td>1</td>\n",
              "      <td>0</td>\n",
              "      <td>0</td>\n",
              "      <td>0</td>\n",
              "      <td>0</td>\n",
              "      <td>0</td>\n",
              "      <td>1</td>\n",
              "      <td>0</td>\n",
              "    </tr>\n",
              "    <tr>\n",
              "      <th>3</th>\n",
              "      <td></td>\n",
              "      <td>Data Entry Clerk</td>\n",
              "      <td>NELLA CUTLERY TORONTO INC.</td>\n",
              "      <td>Toronto, ON</td>\n",
              "      <td>[Toronto, ON$16 - $18 an hourNella Food Equipm...</td>\n",
              "      <td>0</td>\n",
              "      <td>0</td>\n",
              "      <td>0</td>\n",
              "      <td>0</td>\n",
              "      <td>0</td>\n",
              "      <td>0</td>\n",
              "      <td>1</td>\n",
              "      <td>0</td>\n",
              "      <td>0</td>\n",
              "      <td>0</td>\n",
              "      <td>0</td>\n",
              "      <td>0</td>\n",
              "      <td>0</td>\n",
              "      <td>0</td>\n",
              "    </tr>\n",
              "    <tr>\n",
              "      <th>4</th>\n",
              "      <td>0275cb2db44ec205</td>\n",
              "      <td>Data Entry/Applications Assistant (Regular Par...</td>\n",
              "      <td>Centennial College</td>\n",
              "      <td>Toronto, ON</td>\n",
              "      <td>[Toronto, ONPart-time$21.33 - $27.64 an hourIn...</td>\n",
              "      <td>0</td>\n",
              "      <td>0</td>\n",
              "      <td>0</td>\n",
              "      <td>0</td>\n",
              "      <td>0</td>\n",
              "      <td>0</td>\n",
              "      <td>1</td>\n",
              "      <td>0</td>\n",
              "      <td>0</td>\n",
              "      <td>0</td>\n",
              "      <td>0</td>\n",
              "      <td>0</td>\n",
              "      <td>0</td>\n",
              "      <td>0</td>\n",
              "    </tr>\n",
              "  </tbody>\n",
              "</table>\n",
              "</div>"
            ],
            "text/plain": [
              "             Job_ID  ... Big Data\n",
              "0  6b7b697c5907554c  ...        0\n",
              "1  78383667b96fb0c6  ...        0\n",
              "2                    ...        0\n",
              "3                    ...        0\n",
              "4  0275cb2db44ec205  ...        0\n",
              "\n",
              "[5 rows x 19 columns]"
            ]
          },
          "metadata": {
            "tags": []
          },
          "execution_count": 22
        }
      ]
    },
    {
      "cell_type": "code",
      "metadata": {
        "id": "JRsVIQBGgGQL",
        "colab_type": "code",
        "outputId": "ced7bb04-d341-4eb6-ee6b-9131bf640446",
        "colab": {
          "base_uri": "https://localhost:8080/",
          "height": 496
        }
      },
      "source": [
        "results.tail()"
      ],
      "execution_count": 0,
      "outputs": [
        {
          "output_type": "execute_result",
          "data": {
            "text/html": [
              "<div>\n",
              "<style scoped>\n",
              "    .dataframe tbody tr th:only-of-type {\n",
              "        vertical-align: middle;\n",
              "    }\n",
              "\n",
              "    .dataframe tbody tr th {\n",
              "        vertical-align: top;\n",
              "    }\n",
              "\n",
              "    .dataframe thead th {\n",
              "        text-align: right;\n",
              "    }\n",
              "</style>\n",
              "<table border=\"1\" class=\"dataframe\">\n",
              "  <thead>\n",
              "    <tr style=\"text-align: right;\">\n",
              "      <th></th>\n",
              "      <th>Job_ID</th>\n",
              "      <th>Job_Title</th>\n",
              "      <th>Company_Name</th>\n",
              "      <th>Location</th>\n",
              "      <th>Job_Description</th>\n",
              "      <th>SQL</th>\n",
              "      <th>SAS</th>\n",
              "      <th>Python</th>\n",
              "      <th>Matlab</th>\n",
              "      <th>SPSS</th>\n",
              "      <th>Hadoop</th>\n",
              "      <th>Excel</th>\n",
              "      <th>Spark</th>\n",
              "      <th>R</th>\n",
              "      <th>project management</th>\n",
              "      <th>consulting</th>\n",
              "      <th>Artificial Intelligence</th>\n",
              "      <th>databases</th>\n",
              "      <th>Big Data</th>\n",
              "    </tr>\n",
              "  </thead>\n",
              "  <tbody>\n",
              "    <tr>\n",
              "      <th>995</th>\n",
              "      <td>ae299b2373d8b253</td>\n",
              "      <td>Quality Assurance Engineer (Entry-Level), Toro...</td>\n",
              "      <td>Accedo</td>\n",
              "      <td>Toronto, ON</td>\n",
              "      <td>[Toronto, ONI'M INTERESTED\\nAccedo is looking ...</td>\n",
              "      <td>0</td>\n",
              "      <td>0</td>\n",
              "      <td>0</td>\n",
              "      <td>0</td>\n",
              "      <td>0</td>\n",
              "      <td>0</td>\n",
              "      <td>1</td>\n",
              "      <td>0</td>\n",
              "      <td>0</td>\n",
              "      <td>0</td>\n",
              "      <td>0</td>\n",
              "      <td>0</td>\n",
              "      <td>0</td>\n",
              "      <td>0</td>\n",
              "    </tr>\n",
              "    <tr>\n",
              "      <th>996</th>\n",
              "      <td>578996aa58edf0a4</td>\n",
              "      <td>Cashier - 515400</td>\n",
              "      <td>Smashburger</td>\n",
              "      <td>Toronto, ON</td>\n",
              "      <td>[Toronto, ONSummary:\\nThe Cashier is responsib...</td>\n",
              "      <td>0</td>\n",
              "      <td>0</td>\n",
              "      <td>0</td>\n",
              "      <td>0</td>\n",
              "      <td>0</td>\n",
              "      <td>0</td>\n",
              "      <td>0</td>\n",
              "      <td>0</td>\n",
              "      <td>0</td>\n",
              "      <td>0</td>\n",
              "      <td>0</td>\n",
              "      <td>0</td>\n",
              "      <td>0</td>\n",
              "      <td>0</td>\n",
              "    </tr>\n",
              "    <tr>\n",
              "      <th>997</th>\n",
              "      <td>ee0650b009c410a8</td>\n",
              "      <td>Project Lead</td>\n",
              "      <td>York University</td>\n",
              "      <td>York University (Keele campus), ON</td>\n",
              "      <td>[York University (Keele campus), ON$26.11 an h...</td>\n",
              "      <td>0</td>\n",
              "      <td>0</td>\n",
              "      <td>0</td>\n",
              "      <td>0</td>\n",
              "      <td>0</td>\n",
              "      <td>0</td>\n",
              "      <td>1</td>\n",
              "      <td>0</td>\n",
              "      <td>0</td>\n",
              "      <td>0</td>\n",
              "      <td>0</td>\n",
              "      <td>0</td>\n",
              "      <td>0</td>\n",
              "      <td>0</td>\n",
              "    </tr>\n",
              "    <tr>\n",
              "      <th>998</th>\n",
              "      <td>a6e8525b0677e221</td>\n",
              "      <td>Analyst, Quality Assurance</td>\n",
              "      <td>Equitable Bank</td>\n",
              "      <td>Toronto, ON</td>\n",
              "      <td>[Toronto, ONCanada's Challenger Bank™\\nIf you'...</td>\n",
              "      <td>1</td>\n",
              "      <td>0</td>\n",
              "      <td>0</td>\n",
              "      <td>0</td>\n",
              "      <td>0</td>\n",
              "      <td>0</td>\n",
              "      <td>0</td>\n",
              "      <td>0</td>\n",
              "      <td>0</td>\n",
              "      <td>0</td>\n",
              "      <td>0</td>\n",
              "      <td>0</td>\n",
              "      <td>0</td>\n",
              "      <td>0</td>\n",
              "    </tr>\n",
              "    <tr>\n",
              "      <th>999</th>\n",
              "      <td>328ba638e4997ec0</td>\n",
              "      <td>Partner Relations Specialist</td>\n",
              "      <td>George Brown College</td>\n",
              "      <td>Toronto, ON</td>\n",
              "      <td>[Toronto, ON$29.00 - $33.61 an hourAt George B...</td>\n",
              "      <td>0</td>\n",
              "      <td>0</td>\n",
              "      <td>0</td>\n",
              "      <td>0</td>\n",
              "      <td>0</td>\n",
              "      <td>0</td>\n",
              "      <td>1</td>\n",
              "      <td>0</td>\n",
              "      <td>0</td>\n",
              "      <td>0</td>\n",
              "      <td>0</td>\n",
              "      <td>0</td>\n",
              "      <td>1</td>\n",
              "      <td>0</td>\n",
              "    </tr>\n",
              "  </tbody>\n",
              "</table>\n",
              "</div>"
            ],
            "text/plain": [
              "               Job_ID  ... Big Data\n",
              "995  ae299b2373d8b253  ...        0\n",
              "996  578996aa58edf0a4  ...        0\n",
              "997  ee0650b009c410a8  ...        0\n",
              "998  a6e8525b0677e221  ...        0\n",
              "999  328ba638e4997ec0  ...        0\n",
              "\n",
              "[5 rows x 19 columns]"
            ]
          },
          "metadata": {
            "tags": []
          },
          "execution_count": 23
        }
      ]
    },
    {
      "cell_type": "code",
      "metadata": {
        "id": "lAn4GHPdgGQN",
        "colab_type": "code",
        "colab": {}
      },
      "source": [
        "results.to_csv('Indeed_job_vacancies.csv')"
      ],
      "execution_count": 0,
      "outputs": []
    },
    {
      "cell_type": "markdown",
      "metadata": {
        "id": "clFW6o6NgGQP",
        "colab_type": "text"
      },
      "source": [
        "### Plot percent of vacancies requiring knowledge of technology stacks"
      ]
    },
    {
      "cell_type": "code",
      "metadata": {
        "id": "dCCAFEOSgGQQ",
        "colab_type": "code",
        "outputId": "3a40ea69-1f30-4e30-ecfd-2dcafabcc81c",
        "colab": {
          "base_uri": "https://localhost:8080/",
          "height": 488
        }
      },
      "source": [
        "%matplotlib inline\n",
        "ax2 = df2.apply(pd.to_numeric).mean().plot(kind='bar',title = \"knowledge_technologies\",fontsize=12)\n",
        "vals2 = ax2.get_yticks()\n",
        "ax2.set_yticklabels(['{:,.0%}'.format(x) for x in vals2])\n",
        "df2.apply(pd.to_numeric).mean()"
      ],
      "execution_count": 0,
      "outputs": [
        {
          "output_type": "execute_result",
          "data": {
            "text/plain": [
              "SQL       0.212\n",
              "SAS       0.089\n",
              "Python    0.175\n",
              "Matlab    0.018\n",
              "SPSS      0.018\n",
              "Hadoop    0.049\n",
              "Excel     0.664\n",
              "Spark     0.067\n",
              "R         0.133\n",
              "dtype: float64"
            ]
          },
          "metadata": {
            "tags": []
          },
          "execution_count": 32
        },
        {
          "output_type": "display_data",
          "data": {
            "image/png": "iVBORw0KGgoAAAANSUhEUgAAAX4AAAEtCAYAAAAPwAulAAAABHNCSVQICAgIfAhkiAAAAAlwSFlz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\nKQAAAABJRU5ErkJggg==\n",
            "text/plain": [
              "<Figure size 432x288 with 1 Axes>"
            ]
          },
          "metadata": {
            "tags": []
          }
        }
      ]
    },
    {
      "cell_type": "markdown",
      "metadata": {
        "id": "DCBEwZS6wftH",
        "colab_type": "text"
      },
      "source": [
        "###Plot percent of vacancies requiring business skills stacks"
      ]
    },
    {
      "cell_type": "code",
      "metadata": {
        "id": "fbJaGCwDYA0J",
        "colab_type": "code",
        "outputId": "fd72132d-c4ff-4655-b719-165e1eda561d",
        "colab": {
          "base_uri": "https://localhost:8080/",
          "height": 449
        }
      },
      "source": [
        "%matplotlib inline\n",
        "ax3 = df3.apply(pd.to_numeric).mean().plot(kind='bar',title = \"busi_skills\",fontsize=12, color = 'g')\n",
        "vals3 = ax3.get_yticks()\n",
        "ax3.set_yticklabels(['{:,.0%}'.format(x) for x in vals3])\n",
        "df3.apply(pd.to_numeric).mean()"
      ],
      "execution_count": 0,
      "outputs": [
        {
          "output_type": "execute_result",
          "data": {
            "text/plain": [
              "project management    0.083\n",
              "consulting            0.073\n",
              "dtype: float64"
            ]
          },
          "metadata": {
            "tags": []
          },
          "execution_count": 37
        },
        {
          "output_type": "display_data",
          "data": {
            "image/png": "iVBORw0KGgoAAAANSUhEUgAAAXcAAAF9CAYAAAD/WyiYAAAABHNCSVQICAgIfAhkiAAAAAlwSFlz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\nRK5CYII=\n",
            "text/plain": [
              "<Figure size 432x288 with 1 Axes>"
            ]
          },
          "metadata": {
            "tags": []
          }
        }
      ]
    },
    {
      "cell_type": "markdown",
      "metadata": {
        "id": "A-0Jz3MhwvQG",
        "colab_type": "text"
      },
      "source": [
        "###Plot percent of vacancies requiring technical stacks"
      ]
    },
    {
      "cell_type": "code",
      "metadata": {
        "id": "mJxz4ZmhnKCM",
        "colab_type": "code",
        "outputId": "cca13599-49d7-4f92-f3e1-f253e9771a13",
        "colab": {
          "base_uri": "https://localhost:8080/",
          "height": 463
        }
      },
      "source": [
        "%matplotlib inline\n",
        "ax4 = df4.apply(pd.to_numeric).mean().plot(kind='bar',title = \"tech_skills\",fontsize=12, color = 'r')\n",
        "vals4 = ax4.get_yticks()\n",
        "ax4.set_yticklabels(['{:,.0%}'.format(x) for x in vals4])\n",
        "df4.apply(pd.to_numeric).mean()"
      ],
      "execution_count": 0,
      "outputs": [
        {
          "output_type": "execute_result",
          "data": {
            "text/plain": [
              "Artificial Intelligence    0.000\n",
              "databases                  0.155\n",
              "Big Data                   0.000\n",
              "dtype: float64"
            ]
          },
          "metadata": {
            "tags": []
          },
          "execution_count": 38
        },
        {
          "output_type": "display_data",
          "data": {
            "image/png": "iVBORw0KGgoAAAANSUhEUgAAAX4AAAF6CAYAAAAeSzPqAAAABHNCSVQICAgIfAhkiAAAAAlwSFlz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\n0TAJ/oiIhvk/Sz1Hs0jghgIAAAAASUVORK5CYII=\n",
            "text/plain": [
              "<Figure size 432x288 with 1 Axes>"
            ]
          },
          "metadata": {
            "tags": []
          }
        }
      ]
    },
    {
      "cell_type": "markdown",
      "metadata": {
        "id": "CwX6MmlJgGQS",
        "colab_type": "text"
      },
      "source": [
        "###Design of the curriculumn\n",
        "\n",
        "* **Lecture 1 - Introduction**\n",
        "    -  Recognizing data analytics projects in business\n",
        "    -  Sources of data \n",
        "    -  Introduction to basic knowledge of technology required in this field.\n",
        "* **Lecture 2 - Database**\n",
        "    -  Basic concepts(relational model, ER diagram, etc.)\n",
        "    -  Transaction processing and concurrency control\n",
        "    -  Database applications.\n",
        "* **Lecture 3 - SQL**\n",
        "    -  SQL data definition and data types\n",
        "    -  Queries in SQL \n",
        "    -  Some statements and constraints.\n",
        "* **Lecture 4 - Python Programming**\n",
        "    -  Data types and basic logic\n",
        "    -  Fuction and algorithms\n",
        "    -  Visualization\n",
        "* **Lecture 5 - R programming**\n",
        "    -  Data types and basic logic\n",
        "    -  Fuction and algorithms\n",
        "    -  Visualization\n",
        "* **Lecture 6 - Python Programming and R programming applications**\n",
        "    -  Some examples\n",
        "    -  Problems to solve\n",
        "* **Lecture 7 - Matlab Programming**\n",
        "    -  Data types and basic logic\n",
        "    -  Fuction and algorithms\n",
        "    -  Visualization\n",
        "* **Lecture 8 - Big Data**\n",
        "    -  Basic concepts\n",
        "    -  Big Data applications in business\n",
        "* **Lecture 9 - Artificial Intelligence**\n",
        "    -  Basic concepts\n",
        "    -  Natural language processing\n",
        "    -  Artificial Intelligence applications in business\n",
        "* **Lecture 10 - Summary**\n",
        "    -  Some problems to solve(using what students have learned)\n",
        "    -  Important concepts and skills"
      ]
    },
    {
      "cell_type": "markdown",
      "metadata": {
        "id": "t53OntXWFtrw",
        "colab_type": "text"
      },
      "source": [
        "###Other ideas about this project\n",
        "\n",
        "As to design the curriculumn, different people have different educational background, thus the curriculumn may not fit everyone. In this case, users may answer a questionnaire or do a well-designed test to decide what courses they should have to improve their necessary skills.\n",
        "\n",
        "Also, we need to pay attention to tracking the learning process in order to do timely adjustment for users.\n",
        "\n"
      ]
    },
    {
      "cell_type": "markdown",
      "metadata": {
        "id": "GHzs2rYMyS_x",
        "colab_type": "text"
      },
     
    }
  ]
}
